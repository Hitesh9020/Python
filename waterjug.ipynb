{
 "cells": [
  {
   "cell_type": "markdown",
   "metadata": {},
   "source": [
    "    Step 1:- First we will fill the 4 litre jug completely with water. \n",
    "    Step 2:- Then optimal approach would be to empty water from 4-litre jug into 3-litre  (leaving 1L water in 4L jug and 3L completely   full). Hence we got 1L water.\n",
    "    Step 3:- Now, Empty water from 3L.\n",
    "    Step 4:- Pour the water from 4L jug into 3L jug Now 4L container is completely empty and 1L water in present in 3L litre jug.\n",
    "    Step 5:- Fill the 4L jug with water completely again.\n",
    "    Step 6:- On transfering  water from 4L jug to 3L jug, we will get 2L water in 4L jug which was our required quantity. "
   ]
  },
  {
   "cell_type": "code",
   "execution_count": null,
   "metadata": {},
   "outputs": [],
   "source": [
    "from collections import defaultdict\n",
    "jug1, jug2, aim = 40, 30, 10\n",
    " \n",
    "visited = defaultdict(lambda: False)\n",
    "def waterJugSolver(amt1, amt2):\n",
    "\tif (amt1 == aim and amt2 == 0) or (amt2 == aim and amt1 == 0):\n",
    "\t\tprint(amt1, amt2)\n",
    "\t\treturn True\n",
    "\n",
    "\tif visited[(amt1, amt2)] == False:\n",
    "\t\tprint(amt1, amt2)\n",
    "\t\tvisited[(amt1, amt2)] = True\n",
    "\t\treturn (waterJugSolver(0, amt2) or\n",
    "\t\t\t\twaterJugSolver(amt1, 0) or\n",
    "\t\t\t\twaterJugSolver(jug1, amt2) or\n",
    "\t\t\t\twaterJugSolver(amt1, jug2) or\n",
    "\t\t\t\twaterJugSolver(amt1 + min(amt2, (jug1-amt1)),\n",
    "\t\t\t\tamt2 - min(amt2, (jug1-amt1))) or\n",
    "\t\t\t\twaterJugSolver(amt1 - min(amt1, (jug2-amt2)),\n",
    "\t\t\t\tamt2 + min(amt1, (jug2-amt2))))\n",
    "\telse:\n",
    "\t\treturn False\n",
    "\n",
    "print(\"Steps: \")\n",
    "waterJugSolver(0, 0)\n"
   ]
  }
 ],
 "metadata": {
  "kernelspec": {
   "display_name": "Python 3.10.5 64-bit",
   "language": "python",
   "name": "python3"
  },
  "language_info": {
   "codemirror_mode": {
    "name": "ipython",
    "version": 3
   },
   "file_extension": ".py",
   "mimetype": "text/x-python",
   "name": "python",
   "nbconvert_exporter": "python",
   "pygments_lexer": "ipython3",
   "version": "3.10.5"
  },
  "orig_nbformat": 4,
  "vscode": {
   "interpreter": {
    "hash": "bfb753aba6577f16f31203e64b41e9bba51e3da2cb5857f669e67de943dcf813"
   }
  }
 },
 "nbformat": 4,
 "nbformat_minor": 2
}
