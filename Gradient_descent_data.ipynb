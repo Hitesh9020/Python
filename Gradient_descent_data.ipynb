{
  "nbformat": 4,
  "nbformat_minor": 0,
  "metadata": {
    "colab": {
      "provenance": [],
      "authorship_tag": "ABX9TyMTAD/l4WfxInii7EGDs8Y5",
      "include_colab_link": true
    },
    "kernelspec": {
      "name": "python3",
      "display_name": "Python 3"
    },
    "language_info": {
      "name": "python"
    }
  },
  "cells": [
    {
      "cell_type": "markdown",
      "metadata": {
        "id": "view-in-github",
        "colab_type": "text"
      },
      "source": [
        "<a href=\"https://colab.research.google.com/github/Hitesh9020/Python/blob/main/Gradient_descent_data.ipynb\" target=\"_parent\"><img src=\"https://colab.research.google.com/assets/colab-badge.svg\" alt=\"Open In Colab\"/></a>"
      ]
    },
    {
      "cell_type": "code",
      "execution_count": null,
      "metadata": {
        "id": "AfgcAcC2ifkx"
      },
      "outputs": [],
      "source": [
        "import pandas as pd\n",
        "data=pd.read_csv(\"data.csv\")\n",
        "x=data.iloc[:,0]\n",
        "y=data.iloc[:,1]\n",
        "plt.scatter(x,y)\n",
        "plt.show\n",
        "import numpy as np\n",
        "def gradient_descent(x,y):\n",
        "  m_curr = b_curr = 0\n",
        "  n=len(x)\n",
        "  iterations =1000\n",
        "  learning_rate=0.001\n",
        "  for i in range(iterations):\n",
        "    y_predicted=m_curr*x+b_curr\n",
        "    cost=(1/n) *sum([ val**2 for val in (y-y_predicted)])\n",
        "    md=-(2/n)*sum(x*(y-y_predicted))\n",
        "    bd=-(2/n)*sum(y-y_predicted)\n",
        "    m_curr=m_curr-learning_rate*md\n",
        "    b_curr=b_curr-learning_rate*bd\n",
        "    print(\"m{},b{},cost{} iteration{}\".format(m_curr,b_curr,cost,i))\n",
        "gradient_descent(x,y)"
      ]
    },
    {
      "cell_type": "code",
      "source": [],
      "metadata": {
        "id": "djC4nq6Vj2_4"
      },
      "execution_count": null,
      "outputs": []
    }
  ]
}