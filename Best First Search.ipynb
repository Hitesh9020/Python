{
 "cells": [
  {
   "cell_type": "code",
   "execution_count": null,
   "metadata": {},
   "outputs": [],
   "source": [
    "from queue import PriorityQueue\n",
    "v = 14\n",
    "graph = [[] for i in range(v)]\n",
    "\n",
    "def best_first_search(actual_Src, target, n):\n",
    "\tvisited = [False] * n\n",
    "\tpq = PriorityQueue()\n",
    "\tpq.put((0, actual_Src))\n",
    "\tvisited[actual_Src] = True\n",
    "\t\n",
    "\twhile pq.empty() == False:\n",
    "\t\tu = pq.get()[1]\n",
    "\t\tprint(u, end=\" \")\n",
    "\t\tif u == target:\n",
    "\t\t\tbreak\n",
    "\n",
    "\t\tfor v, c in graph[u]:\n",
    "\t\t\tif visited[v] == False:\n",
    "\t\t\t\tvisited[v] = True\n",
    "\t\t\t\tpq.put((c, v))\n",
    "\tprint()\n",
    "def addedge(x, y, cost):\n",
    "\tgraph[x].append((y, cost))\n",
    "\tgraph[y].append((x, cost))\n",
    "\n",
    "addedge(0, 1, 3)\n",
    "addedge(0, 2, 6)\n",
    "addedge(0, 3, 5)\n",
    "addedge(1, 4, 9)\n",
    "addedge(1, 5, 8)\n",
    "addedge(2, 6, 12)\n",
    "addedge(2, 7, 14)\n",
    "addedge(3, 8, 7)\n",
    "addedge(8, 9, 5)\n",
    "addedge(8, 10, 6)\n",
    "addedge(9, 11, 1)\n",
    "addedge(9, 12, 10)\n",
    "addedge(9, 13, 2)\n",
    "\n",
    "source = 0\n",
    "target = 9\n",
    "best_first_search(source, target, v)\n",
    "\n"
   ]
  }
 ],
 "metadata": {
  "kernelspec": {
   "display_name": "Python 3.10.5 64-bit",
   "language": "python",
   "name": "python3"
  },
  "language_info": {
   "name": "python",
   "version": "3.10.5"
  },
  "orig_nbformat": 4,
  "vscode": {
   "interpreter": {
    "hash": "bfb753aba6577f16f31203e64b41e9bba51e3da2cb5857f669e67de943dcf813"
   }
  }
 },
 "nbformat": 4,
 "nbformat_minor": 2
}
